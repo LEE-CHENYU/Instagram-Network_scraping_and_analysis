{
 "cells": [
  {
   "cell_type": "markdown",
   "id": "universal-multiple",
   "metadata": {},
   "source": [
    "# Instagram Network Analysis"
   ]
  },
  {
   "cell_type": "code",
   "execution_count": 42,
   "id": "amazing-celebrity",
   "metadata": {},
   "outputs": [],
   "source": [
    "import networkx as nx\n",
    "import pandas as pd"
   ]
  },
  {
   "cell_type": "markdown",
   "id": "continuous-network",
   "metadata": {},
   "source": [
    "### Number of nodes and edges "
   ]
  },
  {
   "cell_type": "code",
   "execution_count": 43,
   "id": "quarterly-massachusetts",
   "metadata": {},
   "outputs": [
    {
     "name": "stdout",
     "output_type": "stream",
     "text": [
      "5481 5663\n"
     ]
    }
   ],
   "source": [
    "G = nx.read_adjlist('adjList.txt', nodetype=str,create_using=nx.DiGraph())\n",
    "print(G.number_of_nodes(),G.number_of_edges())"
   ]
  },
  {
   "cell_type": "code",
   "execution_count": 44,
   "id": "pharmaceutical-lemon",
   "metadata": {},
   "outputs": [
    {
     "name": "stdout",
     "output_type": "stream",
     "text": [
      "0.004075055388929472\n"
     ]
    }
   ],
   "source": [
    "print(nx.average_clustering(G))"
   ]
  },
  {
   "cell_type": "code",
   "execution_count": 45,
   "id": "heard-camera",
   "metadata": {},
   "outputs": [
    {
     "name": "stdout",
     "output_type": "stream",
     "text": [
      "4310\n"
     ]
    }
   ],
   "source": [
    "print(len(nx.dominating_set(G)))"
   ]
  },
  {
   "cell_type": "code",
   "execution_count": 46,
   "id": "signed-savings",
   "metadata": {},
   "outputs": [],
   "source": [
    "follower_count = [(i,k) for i,k in (G.in_degree)]\n",
    "follower_sorted = sorted(follower_count, key=lambda x: x[1], reverse=True)"
   ]
  },
  {
   "cell_type": "markdown",
   "id": "stuck-devil",
   "metadata": {},
   "source": [
    "### Followers count"
   ]
  },
  {
   "cell_type": "code",
   "execution_count": 47,
   "id": "satisfied-salvation",
   "metadata": {},
   "outputs": [
    {
     "data": {
      "text/html": [
       "<div>\n",
       "<style scoped>\n",
       "    .dataframe tbody tr th:only-of-type {\n",
       "        vertical-align: middle;\n",
       "    }\n",
       "\n",
       "    .dataframe tbody tr th {\n",
       "        vertical-align: top;\n",
       "    }\n",
       "\n",
       "    .dataframe thead th {\n",
       "        text-align: right;\n",
       "    }\n",
       "</style>\n",
       "<table border=\"1\" class=\"dataframe\">\n",
       "  <thead>\n",
       "    <tr style=\"text-align: right;\">\n",
       "      <th></th>\n",
       "      <th>Account</th>\n",
       "      <th>Follower count</th>\n",
       "    </tr>\n",
       "  </thead>\n",
       "  <tbody>\n",
       "    <tr>\n",
       "      <th>0</th>\n",
       "      <td>jeanne_andreaa</td>\n",
       "      <td>51</td>\n",
       "    </tr>\n",
       "    <tr>\n",
       "      <th>1</th>\n",
       "      <td>whitehouse</td>\n",
       "      <td>51</td>\n",
       "    </tr>\n",
       "    <tr>\n",
       "      <th>2</th>\n",
       "      <td>the_sstan</td>\n",
       "      <td>25</td>\n",
       "    </tr>\n",
       "    <tr>\n",
       "      <th>3</th>\n",
       "      <td>donsonn</td>\n",
       "      <td>25</td>\n",
       "    </tr>\n",
       "    <tr>\n",
       "      <th>4</th>\n",
       "      <td>chenggao1999</td>\n",
       "      <td>25</td>\n",
       "    </tr>\n",
       "    <tr>\n",
       "      <th>5</th>\n",
       "      <td>'fretin98',</td>\n",
       "      <td>4</td>\n",
       "    </tr>\n",
       "    <tr>\n",
       "      <th>6</th>\n",
       "      <td>None</td>\n",
       "      <td>4</td>\n",
       "    </tr>\n",
       "    <tr>\n",
       "      <th>7</th>\n",
       "      <td>'yifei_cc',</td>\n",
       "      <td>3</td>\n",
       "    </tr>\n",
       "    <tr>\n",
       "      <th>8</th>\n",
       "      <td>a_toi_omega_</td>\n",
       "      <td>3</td>\n",
       "    </tr>\n",
       "    <tr>\n",
       "      <th>9</th>\n",
       "      <td>'page.soobin',</td>\n",
       "      <td>3</td>\n",
       "    </tr>\n",
       "  </tbody>\n",
       "</table>\n",
       "</div>"
      ],
      "text/plain": [
       "          Account  Follower count\n",
       "0  jeanne_andreaa              51\n",
       "1      whitehouse              51\n",
       "2       the_sstan              25\n",
       "3         donsonn              25\n",
       "4    chenggao1999              25\n",
       "5     'fretin98',               4\n",
       "6            None               4\n",
       "7     'yifei_cc',               3\n",
       "8    a_toi_omega_               3\n",
       "9  'page.soobin',               3"
      ]
     },
     "execution_count": 47,
     "metadata": {},
     "output_type": "execute_result"
    }
   ],
   "source": [
    "#print(follower_sorted[:25])\n",
    "df = pd.DataFrame(follower_sorted[:10], columns=['Account','Follower count'])\n",
    "df"
   ]
  },
  {
   "cell_type": "code",
   "execution_count": 48,
   "id": "upper-worthy",
   "metadata": {},
   "outputs": [],
   "source": [
    "following_count = [(i,k) for i,k in (G.out_degree)]\n",
    "following_sorted = sorted(following_count, key=lambda x: x[1], reverse=True)"
   ]
  },
  {
   "cell_type": "markdown",
   "id": "quiet-philosophy",
   "metadata": {},
   "source": [
    "### Following count "
   ]
  },
  {
   "cell_type": "code",
   "execution_count": 49,
   "id": "peripheral-bathroom",
   "metadata": {},
   "outputs": [
    {
     "data": {
      "text/html": [
       "<div>\n",
       "<style scoped>\n",
       "    .dataframe tbody tr th:only-of-type {\n",
       "        vertical-align: middle;\n",
       "    }\n",
       "\n",
       "    .dataframe tbody tr th {\n",
       "        vertical-align: top;\n",
       "    }\n",
       "\n",
       "    .dataframe thead th {\n",
       "        text-align: right;\n",
       "    }\n",
       "</style>\n",
       "<table border=\"1\" class=\"dataframe\">\n",
       "  <thead>\n",
       "    <tr style=\"text-align: right;\">\n",
       "      <th></th>\n",
       "      <th>Account</th>\n",
       "      <th>Following count</th>\n",
       "    </tr>\n",
       "  </thead>\n",
       "  <tbody>\n",
       "    <tr>\n",
       "      <th>0</th>\n",
       "      <td>fretin98</td>\n",
       "      <td>1864</td>\n",
       "    </tr>\n",
       "    <tr>\n",
       "      <th>1</th>\n",
       "      <td>khriswu8</td>\n",
       "      <td>201</td>\n",
       "    </tr>\n",
       "    <tr>\n",
       "      <th>2</th>\n",
       "      <td>as_cool_as_cucumber_amber</td>\n",
       "      <td>200</td>\n",
       "    </tr>\n",
       "    <tr>\n",
       "      <th>3</th>\n",
       "      <td>aaannie_wang</td>\n",
       "      <td>200</td>\n",
       "    </tr>\n",
       "    <tr>\n",
       "      <th>4</th>\n",
       "      <td>ivyyyl_</td>\n",
       "      <td>200</td>\n",
       "    </tr>\n",
       "    <tr>\n",
       "      <th>5</th>\n",
       "      <td>donsonn</td>\n",
       "      <td>200</td>\n",
       "    </tr>\n",
       "    <tr>\n",
       "      <th>6</th>\n",
       "      <td>yitingzhang</td>\n",
       "      <td>200</td>\n",
       "    </tr>\n",
       "    <tr>\n",
       "      <th>7</th>\n",
       "      <td>dawn_rz_</td>\n",
       "      <td>200</td>\n",
       "    </tr>\n",
       "    <tr>\n",
       "      <th>8</th>\n",
       "      <td>chenggao1999</td>\n",
       "      <td>200</td>\n",
       "    </tr>\n",
       "    <tr>\n",
       "      <th>9</th>\n",
       "      <td>ccclare_</td>\n",
       "      <td>199</td>\n",
       "    </tr>\n",
       "  </tbody>\n",
       "</table>\n",
       "</div>"
      ],
      "text/plain": [
       "                     Account  Following count\n",
       "0                   fretin98             1864\n",
       "1                   khriswu8              201\n",
       "2  as_cool_as_cucumber_amber              200\n",
       "3               aaannie_wang              200\n",
       "4                    ivyyyl_              200\n",
       "5                    donsonn              200\n",
       "6                yitingzhang              200\n",
       "7                   dawn_rz_              200\n",
       "8               chenggao1999              200\n",
       "9                   ccclare_              199"
      ]
     },
     "execution_count": 49,
     "metadata": {},
     "output_type": "execute_result"
    }
   ],
   "source": [
    "#print(following_sorted[:25])\n",
    "df = pd.DataFrame(following_sorted[:10], columns=['Account','Following count'])\n",
    "df"
   ]
  },
  {
   "cell_type": "code",
   "execution_count": 50,
   "id": "chubby-prior",
   "metadata": {},
   "outputs": [],
   "source": [
    "avg_neighbor_degrees = nx.average_neighbor_degree(G)\n",
    "avg_neighb_deg_list = [(name,val) for name,val in avg_neighbor_degrees.items()]\n",
    "avg_neigh_d_sorted = sorted(avg_neighb_deg_list, key=lambda x: x[1], reverse=True)"
   ]
  },
  {
   "cell_type": "code",
   "execution_count": 51,
   "id": "trying-option",
   "metadata": {},
   "outputs": [
    {
     "name": "stdout",
     "output_type": "stream",
     "text": [
      "[('user1', 932.0), ('just_johnny94', 200.0), ('sethutilak', 200.0), ('jacob_fusek', 200.0), ('zoeyzoey_z', 200.0), ('_lucyhe_', 200.0), ('coconini_z', 200.0), ('yyyuqi1', 200.0), ('fluffypun', 200.0), ('dannyothello', 200.0), ('drashttiii27', 200.0), ('maggieeshumm', 200.0), ('arnaud.biebuyck', 200.0), ('alishapeng24601', 200.0), ('shaun_ngtc', 200.0), ('jjjjjason_zheng', 200.0), ('hrkfric', 200.0), ('chuanhweeeee', 200.0), ('dsaha02', 200.0), ('judyy_moon', 200.0)]\n"
     ]
    }
   ],
   "source": [
    "print(avg_neigh_d_sorted[:20])"
   ]
  },
  {
   "cell_type": "code",
   "execution_count": 52,
   "id": "careful-death",
   "metadata": {},
   "outputs": [],
   "source": [
    "accounts_with_zero_following=[]\n",
    "for name,val in (G.out_degree):\n",
    "    if val==0:\n",
    "        accounts_with_zero_following.append((name,G.in_degree(name)))\n",
    "        \n",
    "accounts_with_0_following_sorted = sorted(accounts_with_zero_following, key=lambda x:x[1], reverse=True)"
   ]
  },
  {
   "cell_type": "markdown",
   "id": "continuous-surge",
   "metadata": {},
   "source": [
    "### Accounts with 0 following and their follower count within the network"
   ]
  },
  {
   "cell_type": "code",
   "execution_count": 53,
   "id": "square-necklace",
   "metadata": {},
   "outputs": [
    {
     "data": {
      "text/html": [
       "<div>\n",
       "<style scoped>\n",
       "    .dataframe tbody tr th:only-of-type {\n",
       "        vertical-align: middle;\n",
       "    }\n",
       "\n",
       "    .dataframe tbody tr th {\n",
       "        vertical-align: top;\n",
       "    }\n",
       "\n",
       "    .dataframe thead th {\n",
       "        text-align: right;\n",
       "    }\n",
       "</style>\n",
       "<table border=\"1\" class=\"dataframe\">\n",
       "  <thead>\n",
       "    <tr style=\"text-align: right;\">\n",
       "      <th></th>\n",
       "      <th>Account</th>\n",
       "      <th>Follower count</th>\n",
       "    </tr>\n",
       "  </thead>\n",
       "  <tbody>\n",
       "    <tr>\n",
       "      <th>0</th>\n",
       "      <td>'fretin98',</td>\n",
       "      <td>4</td>\n",
       "    </tr>\n",
       "    <tr>\n",
       "      <th>1</th>\n",
       "      <td>None</td>\n",
       "      <td>4</td>\n",
       "    </tr>\n",
       "    <tr>\n",
       "      <th>2</th>\n",
       "      <td>'yifei_cc',</td>\n",
       "      <td>3</td>\n",
       "    </tr>\n",
       "    <tr>\n",
       "      <th>3</th>\n",
       "      <td>a_toi_omega_</td>\n",
       "      <td>3</td>\n",
       "    </tr>\n",
       "    <tr>\n",
       "      <th>4</th>\n",
       "      <td>'page.soobin',</td>\n",
       "      <td>3</td>\n",
       "    </tr>\n",
       "    <tr>\n",
       "      <th>...</th>\n",
       "      <td>...</td>\n",
       "      <td>...</td>\n",
       "    </tr>\n",
       "    <tr>\n",
       "      <th>5280</th>\n",
       "      <td>officemagazinenyc</td>\n",
       "      <td>1</td>\n",
       "    </tr>\n",
       "    <tr>\n",
       "      <th>5281</th>\n",
       "      <td>yqu53</td>\n",
       "      <td>1</td>\n",
       "    </tr>\n",
       "    <tr>\n",
       "      <th>5282</th>\n",
       "      <td>william_weisicheng</td>\n",
       "      <td>1</td>\n",
       "    </tr>\n",
       "    <tr>\n",
       "      <th>5283</th>\n",
       "      <td>lily_dead_fish</td>\n",
       "      <td>1</td>\n",
       "    </tr>\n",
       "    <tr>\n",
       "      <th>5284</th>\n",
       "      <td>eli.allegory</td>\n",
       "      <td>1</td>\n",
       "    </tr>\n",
       "  </tbody>\n",
       "</table>\n",
       "<p>5285 rows × 2 columns</p>\n",
       "</div>"
      ],
      "text/plain": [
       "                 Account  Follower count\n",
       "0            'fretin98',               4\n",
       "1                   None               4\n",
       "2            'yifei_cc',               3\n",
       "3           a_toi_omega_               3\n",
       "4         'page.soobin',               3\n",
       "...                  ...             ...\n",
       "5280   officemagazinenyc               1\n",
       "5281               yqu53               1\n",
       "5282  william_weisicheng               1\n",
       "5283      lily_dead_fish               1\n",
       "5284        eli.allegory               1\n",
       "\n",
       "[5285 rows x 2 columns]"
      ]
     },
     "execution_count": 53,
     "metadata": {},
     "output_type": "execute_result"
    }
   ],
   "source": [
    "#print(accounts_with_0_following_sorted)\n",
    "df = pd.DataFrame(accounts_with_0_following_sorted, columns=['Account','Follower count'])\n",
    "df"
   ]
  },
  {
   "cell_type": "code",
   "execution_count": 54,
   "id": "external-gabriel",
   "metadata": {},
   "outputs": [],
   "source": [
    "page_ranks = nx.pagerank(G)\n",
    "page_ranks_sorted = sorted(page_ranks.keys(), key= lambda x: page_ranks[x], reverse=True)"
   ]
  },
  {
   "cell_type": "markdown",
   "id": "burning-burton",
   "metadata": {},
   "source": [
    "### Page rank "
   ]
  },
  {
   "cell_type": "code",
   "execution_count": 55,
   "id": "cheap-first",
   "metadata": {},
   "outputs": [
    {
     "data": {
      "text/html": [
       "<div>\n",
       "<style scoped>\n",
       "    .dataframe tbody tr th:only-of-type {\n",
       "        vertical-align: middle;\n",
       "    }\n",
       "\n",
       "    .dataframe tbody tr th {\n",
       "        vertical-align: top;\n",
       "    }\n",
       "\n",
       "    .dataframe thead th {\n",
       "        text-align: right;\n",
       "    }\n",
       "</style>\n",
       "<table border=\"1\" class=\"dataframe\">\n",
       "  <thead>\n",
       "    <tr style=\"text-align: right;\">\n",
       "      <th></th>\n",
       "      <th>Account</th>\n",
       "    </tr>\n",
       "  </thead>\n",
       "  <tbody>\n",
       "    <tr>\n",
       "      <th>0</th>\n",
       "      <td>jeanne_andreaa</td>\n",
       "    </tr>\n",
       "    <tr>\n",
       "      <th>1</th>\n",
       "      <td>whitehouse</td>\n",
       "    </tr>\n",
       "    <tr>\n",
       "      <th>2</th>\n",
       "      <td>donsonn</td>\n",
       "    </tr>\n",
       "    <tr>\n",
       "      <th>3</th>\n",
       "      <td>the_sstan</td>\n",
       "    </tr>\n",
       "    <tr>\n",
       "      <th>4</th>\n",
       "      <td>chenggao1999</td>\n",
       "    </tr>\n",
       "    <tr>\n",
       "      <th>5</th>\n",
       "      <td>realdonaldtrump</td>\n",
       "    </tr>\n",
       "    <tr>\n",
       "      <th>6</th>\n",
       "      <td>flotus</td>\n",
       "    </tr>\n",
       "    <tr>\n",
       "      <th>7</th>\n",
       "      <td>borderpatrol</td>\n",
       "    </tr>\n",
       "    <tr>\n",
       "      <th>8</th>\n",
       "      <td>potus</td>\n",
       "    </tr>\n",
       "    <tr>\n",
       "      <th>9</th>\n",
       "      <td>vp</td>\n",
       "    </tr>\n",
       "    <tr>\n",
       "      <th>10</th>\n",
       "      <td>slotus</td>\n",
       "    </tr>\n",
       "    <tr>\n",
       "      <th>11</th>\n",
       "      <td>fretin98</td>\n",
       "    </tr>\n",
       "    <tr>\n",
       "      <th>12</th>\n",
       "      <td>user3</td>\n",
       "    </tr>\n",
       "    <tr>\n",
       "      <th>13</th>\n",
       "      <td>a_toi_omega_</td>\n",
       "    </tr>\n",
       "    <tr>\n",
       "      <th>14</th>\n",
       "      <td>vicmontanari</td>\n",
       "    </tr>\n",
       "    <tr>\n",
       "      <th>15</th>\n",
       "      <td>farran_encheres</td>\n",
       "    </tr>\n",
       "    <tr>\n",
       "      <th>16</th>\n",
       "      <td>parenthese.insolite</td>\n",
       "    </tr>\n",
       "    <tr>\n",
       "      <th>17</th>\n",
       "      <td>lucallaccio</td>\n",
       "    </tr>\n",
       "    <tr>\n",
       "      <th>18</th>\n",
       "      <td>anja_paris</td>\n",
       "    </tr>\n",
       "    <tr>\n",
       "      <th>19</th>\n",
       "      <td>boho_addict</td>\n",
       "    </tr>\n",
       "  </tbody>\n",
       "</table>\n",
       "</div>"
      ],
      "text/plain": [
       "                Account\n",
       "0        jeanne_andreaa\n",
       "1            whitehouse\n",
       "2               donsonn\n",
       "3             the_sstan\n",
       "4          chenggao1999\n",
       "5       realdonaldtrump\n",
       "6                flotus\n",
       "7          borderpatrol\n",
       "8                 potus\n",
       "9                    vp\n",
       "10               slotus\n",
       "11             fretin98\n",
       "12                user3\n",
       "13         a_toi_omega_\n",
       "14         vicmontanari\n",
       "15      farran_encheres\n",
       "16  parenthese.insolite\n",
       "17          lucallaccio\n",
       "18           anja_paris\n",
       "19          boho_addict"
      ]
     },
     "execution_count": 55,
     "metadata": {},
     "output_type": "execute_result"
    }
   ],
   "source": [
    "#print(page_ranks_sorted[:20])\n",
    "df = pd.DataFrame(page_ranks_sorted[:20], columns=['Account'])\n",
    "df"
   ]
  },
  {
   "cell_type": "code",
   "execution_count": 56,
   "id": "through-azerbaijan",
   "metadata": {},
   "outputs": [
    {
     "name": "stderr",
     "output_type": "stream",
     "text": [
      "/opt/miniconda3/lib/python3.11/site-packages/networkx/algorithms/link_analysis/hits_alg.py:78: FutureWarning: adjacency_matrix will return a scipy.sparse array instead of a matrix in Networkx 3.0.\n",
      "  A = nx.adjacency_matrix(G, nodelist=list(G), dtype=float)\n"
     ]
    }
   ],
   "source": [
    "hits = nx.hits(G)\n",
    "hits_sorted = sorted(hits[0], key=lambda x:hits[0][x], reverse=True)"
   ]
  },
  {
   "cell_type": "markdown",
   "id": "heavy-cache",
   "metadata": {},
   "source": [
    "### Hits "
   ]
  },
  {
   "cell_type": "code",
   "execution_count": 57,
   "id": "pressed-grass",
   "metadata": {},
   "outputs": [
    {
     "data": {
      "text/html": [
       "<div>\n",
       "<style scoped>\n",
       "    .dataframe tbody tr th:only-of-type {\n",
       "        vertical-align: middle;\n",
       "    }\n",
       "\n",
       "    .dataframe tbody tr th {\n",
       "        vertical-align: top;\n",
       "    }\n",
       "\n",
       "    .dataframe thead th {\n",
       "        text-align: right;\n",
       "    }\n",
       "</style>\n",
       "<table border=\"1\" class=\"dataframe\">\n",
       "  <thead>\n",
       "    <tr style=\"text-align: right;\">\n",
       "      <th></th>\n",
       "      <th>Account</th>\n",
       "    </tr>\n",
       "  </thead>\n",
       "  <tbody>\n",
       "    <tr>\n",
       "      <th>0</th>\n",
       "      <td>fretin98</td>\n",
       "    </tr>\n",
       "    <tr>\n",
       "      <th>1</th>\n",
       "      <td>the_sstan</td>\n",
       "    </tr>\n",
       "    <tr>\n",
       "      <th>2</th>\n",
       "      <td>25</td>\n",
       "    </tr>\n",
       "    <tr>\n",
       "      <th>3</th>\n",
       "      <td>chenggao1999</td>\n",
       "    </tr>\n",
       "    <tr>\n",
       "      <th>4</th>\n",
       "      <td>donsonn</td>\n",
       "    </tr>\n",
       "    <tr>\n",
       "      <th>5</th>\n",
       "      <td>plataspilarlopez</td>\n",
       "    </tr>\n",
       "    <tr>\n",
       "      <th>6</th>\n",
       "      <td>alwaysmirna</td>\n",
       "    </tr>\n",
       "    <tr>\n",
       "      <th>7</th>\n",
       "      <td>davidwi2024</td>\n",
       "    </tr>\n",
       "    <tr>\n",
       "      <th>8</th>\n",
       "      <td>mariannegnsr</td>\n",
       "    </tr>\n",
       "    <tr>\n",
       "      <th>9</th>\n",
       "      <td>jood_246812</td>\n",
       "    </tr>\n",
       "    <tr>\n",
       "      <th>10</th>\n",
       "      <td>musee_atelier_jh</td>\n",
       "    </tr>\n",
       "    <tr>\n",
       "      <th>11</th>\n",
       "      <td>lobanova8923</td>\n",
       "    </tr>\n",
       "    <tr>\n",
       "      <th>12</th>\n",
       "      <td>alineromanovsky</td>\n",
       "    </tr>\n",
       "    <tr>\n",
       "      <th>13</th>\n",
       "      <td>afrodito00_</td>\n",
       "    </tr>\n",
       "    <tr>\n",
       "      <th>14</th>\n",
       "      <td>kuzmawithlove</td>\n",
       "    </tr>\n",
       "    <tr>\n",
       "      <th>15</th>\n",
       "      <td>eeddaturan</td>\n",
       "    </tr>\n",
       "    <tr>\n",
       "      <th>16</th>\n",
       "      <td>margaridamleitao</td>\n",
       "    </tr>\n",
       "    <tr>\n",
       "      <th>17</th>\n",
       "      <td>bochun_li</td>\n",
       "    </tr>\n",
       "    <tr>\n",
       "      <th>18</th>\n",
       "      <td>poppyy_s</td>\n",
       "    </tr>\n",
       "    <tr>\n",
       "      <th>19</th>\n",
       "      <td>europe_tr</td>\n",
       "    </tr>\n",
       "  </tbody>\n",
       "</table>\n",
       "</div>"
      ],
      "text/plain": [
       "             Account\n",
       "0           fretin98\n",
       "1          the_sstan\n",
       "2                 25\n",
       "3       chenggao1999\n",
       "4            donsonn\n",
       "5   plataspilarlopez\n",
       "6        alwaysmirna\n",
       "7        davidwi2024\n",
       "8       mariannegnsr\n",
       "9        jood_246812\n",
       "10  musee_atelier_jh\n",
       "11      lobanova8923\n",
       "12   alineromanovsky\n",
       "13       afrodito00_\n",
       "14     kuzmawithlove\n",
       "15        eeddaturan\n",
       "16  margaridamleitao\n",
       "17         bochun_li\n",
       "18          poppyy_s\n",
       "19         europe_tr"
      ]
     },
     "execution_count": 57,
     "metadata": {},
     "output_type": "execute_result"
    }
   ],
   "source": [
    "#print(hits_sorted[:20])\n",
    "df = pd.DataFrame(hits_sorted[:20], columns=['Account'])\n",
    "df"
   ]
  },
  {
   "cell_type": "code",
   "execution_count": 58,
   "id": "confused-citizenship",
   "metadata": {},
   "outputs": [],
   "source": [
    "closeness = nx.closeness_centrality(G)\n",
    "betweenness = nx.betweenness_centrality(G)\n",
    "\n",
    "# These two take exponentially large time which could take hours to compute"
   ]
  },
  {
   "cell_type": "markdown",
   "id": "purple-saint",
   "metadata": {},
   "source": [
    "## Graph with specific subset of nodes and edges between them"
   ]
  },
  {
   "cell_type": "code",
   "execution_count": 59,
   "id": "western-degree",
   "metadata": {},
   "outputs": [],
   "source": [
    "import essentialRoutines\n",
    "adjFile = open(\"adjList.txt\",\"r\")\n",
    "adjList = adjFile.readlines()\n",
    "adjFile.close()\n",
    "allNodes = essentialRoutines.adjList_to_dict(adjList)"
   ]
  },
  {
   "cell_type": "code",
   "execution_count": 60,
   "id": "pleasant-traveler",
   "metadata": {},
   "outputs": [],
   "source": [
    "my_neighbors = allNodes['fretin98']"
   ]
  },
  {
   "cell_type": "code",
   "execution_count": 61,
   "id": "purple-syracuse",
   "metadata": {},
   "outputs": [],
   "source": [
    "G_small = nx.DiGraph()\n",
    "for neighbor in my_neighbors:\n",
    "    G_small.add_edge('fretin98',neighbor)\n",
    "    \n",
    "for node in allNodes.keys():\n",
    "    if 'arjun_siva__' in allNodes[node]:\n",
    "        my_neighbors.append(node)\n",
    "        G_small.add_edge(node, 'fretin98')"
   ]
  },
  {
   "cell_type": "code",
   "execution_count": 62,
   "id": "subtle-reproduction",
   "metadata": {},
   "outputs": [
    {
     "name": "stdout",
     "output_type": "stream",
     "text": [
      "2 1\n"
     ]
    }
   ],
   "source": [
    "for n1 in my_neighbors:\n",
    "    for n2 in my_neighbors:\n",
    "        try:\n",
    "            if n1 in allNodes[n2]:\n",
    "                G_small.add_edge(n2, n1)\n",
    "        except:\n",
    "            continue\n",
    "            \n",
    "print(G_small.number_of_nodes(), G_small.number_of_edges())"
   ]
  },
  {
   "cell_type": "code",
   "execution_count": 63,
   "id": "spanish-perfume",
   "metadata": {},
   "outputs": [],
   "source": [
    "b_c = nx.betweenness_centrality(G_small)\n",
    "b_c_sorted = sorted(b_c.items(), key=lambda x:b_c[x[0]], reverse=True)"
   ]
  },
  {
   "cell_type": "markdown",
   "id": "previous-group",
   "metadata": {},
   "source": [
    "### Betweenness centrality "
   ]
  },
  {
   "cell_type": "code",
   "execution_count": 64,
   "id": "elder-advocate",
   "metadata": {},
   "outputs": [
    {
     "data": {
      "text/html": [
       "<div>\n",
       "<style scoped>\n",
       "    .dataframe tbody tr th:only-of-type {\n",
       "        vertical-align: middle;\n",
       "    }\n",
       "\n",
       "    .dataframe tbody tr th {\n",
       "        vertical-align: top;\n",
       "    }\n",
       "\n",
       "    .dataframe thead th {\n",
       "        text-align: right;\n",
       "    }\n",
       "</style>\n",
       "<table border=\"1\" class=\"dataframe\">\n",
       "  <thead>\n",
       "    <tr style=\"text-align: right;\">\n",
       "      <th></th>\n",
       "      <th>Account</th>\n",
       "      <th>Value</th>\n",
       "    </tr>\n",
       "  </thead>\n",
       "  <tbody>\n",
       "    <tr>\n",
       "      <th>0</th>\n",
       "      <td>fretin98</td>\n",
       "      <td>0.0</td>\n",
       "    </tr>\n",
       "    <tr>\n",
       "      <th>1</th>\n",
       "      <td>eli.allegory</td>\n",
       "      <td>0.0</td>\n",
       "    </tr>\n",
       "  </tbody>\n",
       "</table>\n",
       "</div>"
      ],
      "text/plain": [
       "        Account  Value\n",
       "0      fretin98    0.0\n",
       "1  eli.allegory    0.0"
      ]
     },
     "execution_count": 64,
     "metadata": {},
     "output_type": "execute_result"
    }
   ],
   "source": [
    "#print(b_c_sorted[:20])\n",
    "df = pd.DataFrame(b_c_sorted[:20], columns=['Account','Value'])\n",
    "df"
   ]
  },
  {
   "cell_type": "code",
   "execution_count": 65,
   "id": "sharing-continuity",
   "metadata": {},
   "outputs": [],
   "source": [
    "c_c = nx.closeness_centrality(G_small)\n",
    "c_c_sorted = sorted(c_c.items(), key=lambda x:c_c[x[0]], reverse=True)"
   ]
  },
  {
   "cell_type": "markdown",
   "id": "included-dispatch",
   "metadata": {},
   "source": [
    "### Closeness centrality "
   ]
  },
  {
   "cell_type": "code",
   "execution_count": 66,
   "id": "traditional-termination",
   "metadata": {},
   "outputs": [
    {
     "data": {
      "text/html": [
       "<div>\n",
       "<style scoped>\n",
       "    .dataframe tbody tr th:only-of-type {\n",
       "        vertical-align: middle;\n",
       "    }\n",
       "\n",
       "    .dataframe tbody tr th {\n",
       "        vertical-align: top;\n",
       "    }\n",
       "\n",
       "    .dataframe thead th {\n",
       "        text-align: right;\n",
       "    }\n",
       "</style>\n",
       "<table border=\"1\" class=\"dataframe\">\n",
       "  <thead>\n",
       "    <tr style=\"text-align: right;\">\n",
       "      <th></th>\n",
       "      <th>Account</th>\n",
       "      <th>Value</th>\n",
       "    </tr>\n",
       "  </thead>\n",
       "  <tbody>\n",
       "    <tr>\n",
       "      <th>0</th>\n",
       "      <td>eli.allegory</td>\n",
       "      <td>1.0</td>\n",
       "    </tr>\n",
       "    <tr>\n",
       "      <th>1</th>\n",
       "      <td>fretin98</td>\n",
       "      <td>0.0</td>\n",
       "    </tr>\n",
       "  </tbody>\n",
       "</table>\n",
       "</div>"
      ],
      "text/plain": [
       "        Account  Value\n",
       "0  eli.allegory    1.0\n",
       "1      fretin98    0.0"
      ]
     },
     "execution_count": 66,
     "metadata": {},
     "output_type": "execute_result"
    }
   ],
   "source": [
    "#print(c_c_sorted[:20])\n",
    "df = pd.DataFrame(c_c_sorted[:20], columns=['Account','Value'])\n",
    "df"
   ]
  },
  {
   "cell_type": "code",
   "execution_count": 67,
   "id": "experienced-columbia",
   "metadata": {},
   "outputs": [],
   "source": [
    "G_small_undir = G_small.to_undirected()"
   ]
  },
  {
   "cell_type": "code",
   "execution_count": 68,
   "id": "identical-domestic",
   "metadata": {},
   "outputs": [],
   "source": [
    "preds = nx.preferential_attachment(G_small_undir)\n",
    "preds_sorted = sorted(preds, key=lambda x:x[2], reverse=True)"
   ]
  },
  {
   "cell_type": "markdown",
   "id": "present-century",
   "metadata": {},
   "source": [
    "### Preferential attachment "
   ]
  },
  {
   "cell_type": "code",
   "execution_count": 69,
   "id": "packed-implementation",
   "metadata": {},
   "outputs": [
    {
     "data": {
      "text/html": [
       "<div>\n",
       "<style scoped>\n",
       "    .dataframe tbody tr th:only-of-type {\n",
       "        vertical-align: middle;\n",
       "    }\n",
       "\n",
       "    .dataframe tbody tr th {\n",
       "        vertical-align: top;\n",
       "    }\n",
       "\n",
       "    .dataframe thead th {\n",
       "        text-align: right;\n",
       "    }\n",
       "</style>\n",
       "<table border=\"1\" class=\"dataframe\">\n",
       "  <thead>\n",
       "    <tr style=\"text-align: right;\">\n",
       "      <th></th>\n",
       "      <th>Account 1</th>\n",
       "      <th>Account 2</th>\n",
       "      <th>Value</th>\n",
       "    </tr>\n",
       "  </thead>\n",
       "  <tbody>\n",
       "  </tbody>\n",
       "</table>\n",
       "</div>"
      ],
      "text/plain": [
       "Empty DataFrame\n",
       "Columns: [Account 1, Account 2, Value]\n",
       "Index: []"
      ]
     },
     "execution_count": 69,
     "metadata": {},
     "output_type": "execute_result"
    }
   ],
   "source": [
    "#print(preds_sorted[:20])\n",
    "df = pd.DataFrame(preds_sorted[:20], columns=['Account 1','Account 2','Value'])\n",
    "df"
   ]
  },
  {
   "cell_type": "code",
   "execution_count": 70,
   "id": "english-martin",
   "metadata": {},
   "outputs": [],
   "source": [
    "def find_unconnected_nodes(selected_node, node_list, G):\n",
    "    \n",
    "    # obtain all the nodes connected to the selected node\n",
    "    connected_nodes = [n for _, n in G.edges(selected_node)]\n",
    "\n",
    "    # a feasible node is one not in connected_nodes\n",
    "    feasible_nodes = [feasible_n for feasible_n in node_list if feasible_n not in connected_nodes + [selected_node]]\n",
    "\n",
    "    return feasible_nodes"
   ]
  },
  {
   "cell_type": "code",
   "execution_count": 71,
   "id": "aerial-quantity",
   "metadata": {},
   "outputs": [],
   "source": [
    "unconnected_nodes = []\n",
    "not_connected_list = find_unconnected_nodes('fretin98', G_small_undir.nodes(), G_small_undir)\n",
    "for n in not_connected_list:\n",
    "    unconnected_nodes.append(('fretin98',n))"
   ]
  },
  {
   "cell_type": "code",
   "execution_count": 72,
   "id": "discrete-donna",
   "metadata": {},
   "outputs": [],
   "source": [
    "j_coef = nx.jaccard_coefficient(G_small_undir, ebunch=unconnected_nodes)\n",
    "j_coef_sorted = sorted(j_coef, key=lambda x:x[2], reverse=True)"
   ]
  },
  {
   "cell_type": "markdown",
   "id": "handy-locking",
   "metadata": {},
   "source": [
    "### Jaccard Coefficient between a specific node and all nodes not connected to it "
   ]
  },
  {
   "cell_type": "code",
   "execution_count": 73,
   "id": "portuguese-narrow",
   "metadata": {},
   "outputs": [
    {
     "data": {
      "text/html": [
       "<div>\n",
       "<style scoped>\n",
       "    .dataframe tbody tr th:only-of-type {\n",
       "        vertical-align: middle;\n",
       "    }\n",
       "\n",
       "    .dataframe tbody tr th {\n",
       "        vertical-align: top;\n",
       "    }\n",
       "\n",
       "    .dataframe thead th {\n",
       "        text-align: right;\n",
       "    }\n",
       "</style>\n",
       "<table border=\"1\" class=\"dataframe\">\n",
       "  <thead>\n",
       "    <tr style=\"text-align: right;\">\n",
       "      <th></th>\n",
       "      <th>Account 1</th>\n",
       "      <th>Account 2</th>\n",
       "      <th>Value</th>\n",
       "    </tr>\n",
       "  </thead>\n",
       "  <tbody>\n",
       "  </tbody>\n",
       "</table>\n",
       "</div>"
      ],
      "text/plain": [
       "Empty DataFrame\n",
       "Columns: [Account 1, Account 2, Value]\n",
       "Index: []"
      ]
     },
     "execution_count": 73,
     "metadata": {},
     "output_type": "execute_result"
    }
   ],
   "source": [
    "#print(j_coef_sorted[:20])\n",
    "df = pd.DataFrame(j_coef_sorted[:20], columns=['Account 1','Account 2','Value'])\n",
    "df"
   ]
  },
  {
   "cell_type": "markdown",
   "id": "associate-portal",
   "metadata": {},
   "source": [
    "### Exporting to gexf format for Gephi"
   ]
  },
  {
   "cell_type": "code",
   "execution_count": 74,
   "id": "affecting-vampire",
   "metadata": {},
   "outputs": [],
   "source": [
    "nx.write_gexf(G, \"Full_graph.gexf\")"
   ]
  },
  {
   "cell_type": "code",
   "execution_count": 75,
   "id": "diagnostic-newcastle",
   "metadata": {},
   "outputs": [],
   "source": [
    "nx.write_gexf(G_small, \"Subset.gexf\")"
   ]
  }
 ],
 "metadata": {
  "kernelspec": {
   "display_name": "base",
   "language": "python",
   "name": "python3"
  },
  "language_info": {
   "codemirror_mode": {
    "name": "ipython",
    "version": 3
   },
   "file_extension": ".py",
   "mimetype": "text/x-python",
   "name": "python",
   "nbconvert_exporter": "python",
   "pygments_lexer": "ipython3",
   "version": "3.11.9"
  }
 },
 "nbformat": 4,
 "nbformat_minor": 5
}
