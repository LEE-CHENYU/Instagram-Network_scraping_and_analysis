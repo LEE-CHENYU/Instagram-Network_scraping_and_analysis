{
 "cells": [
  {
   "cell_type": "markdown",
   "id": "universal-multiple",
   "metadata": {},
   "source": [
    "# Instagram Network Analysis"
   ]
  },
  {
   "cell_type": "code",
   "execution_count": 1,
   "id": "amazing-celebrity",
   "metadata": {},
   "outputs": [],
   "source": [
    "import networkx as nx\n",
    "import pandas as pd"
   ]
  },
  {
   "cell_type": "markdown",
   "id": "continuous-network",
   "metadata": {},
   "source": [
    "### Number of nodes and edges "
   ]
  },
  {
   "cell_type": "code",
   "execution_count": 2,
   "id": "quarterly-massachusetts",
   "metadata": {},
   "outputs": [
    {
     "name": "stdout",
     "output_type": "stream",
     "text": [
      "20001 24978\n"
     ]
    }
   ],
   "source": [
    "G = nx.read_adjlist('adjList.txt', nodetype=str,create_using=nx.DiGraph())\n",
    "print(G.number_of_nodes(),G.number_of_edges())"
   ]
  },
  {
   "cell_type": "code",
   "execution_count": 3,
   "id": "pharmaceutical-lemon",
   "metadata": {},
   "outputs": [
    {
     "name": "stdout",
     "output_type": "stream",
     "text": [
      "0.009702593121140572\n"
     ]
    }
   ],
   "source": [
    "print(nx.average_clustering(G))"
   ]
  },
  {
   "cell_type": "code",
   "execution_count": 4,
   "id": "heard-camera",
   "metadata": {},
   "outputs": [
    {
     "name": "stdout",
     "output_type": "stream",
     "text": [
      "15865\n"
     ]
    }
   ],
   "source": [
    "print(len(nx.dominating_set(G)))"
   ]
  },
  {
   "cell_type": "code",
   "execution_count": 5,
   "id": "signed-savings",
   "metadata": {},
   "outputs": [],
   "source": [
    "follower_count = [(i,k) for i,k in (G.in_degree)]\n",
    "follower_sorted = sorted(follower_count, key=lambda x: x[1], reverse=True)"
   ]
  },
  {
   "cell_type": "markdown",
   "id": "stuck-devil",
   "metadata": {},
   "source": [
    "### Followers count"
   ]
  },
  {
   "cell_type": "code",
   "execution_count": 6,
   "id": "satisfied-salvation",
   "metadata": {},
   "outputs": [
    {
     "data": {
      "text/html": [
       "<div>\n",
       "<style scoped>\n",
       "    .dataframe tbody tr th:only-of-type {\n",
       "        vertical-align: middle;\n",
       "    }\n",
       "\n",
       "    .dataframe tbody tr th {\n",
       "        vertical-align: top;\n",
       "    }\n",
       "\n",
       "    .dataframe thead th {\n",
       "        text-align: right;\n",
       "    }\n",
       "</style>\n",
       "<table border=\"1\" class=\"dataframe\">\n",
       "  <thead>\n",
       "    <tr style=\"text-align: right;\">\n",
       "      <th></th>\n",
       "      <th>Account</th>\n",
       "      <th>Follower count</th>\n",
       "    </tr>\n",
       "  </thead>\n",
       "  <tbody>\n",
       "    <tr>\n",
       "      <th>0</th>\n",
       "      <td>whitehouse</td>\n",
       "      <td>61</td>\n",
       "    </tr>\n",
       "    <tr>\n",
       "      <th>1</th>\n",
       "      <td>jeanne_andreaa</td>\n",
       "      <td>51</td>\n",
       "    </tr>\n",
       "    <tr>\n",
       "      <th>2</th>\n",
       "      <td>nytimestravel</td>\n",
       "      <td>51</td>\n",
       "    </tr>\n",
       "    <tr>\n",
       "      <th>3</th>\n",
       "      <td>sonymusicsoundtracks</td>\n",
       "      <td>50</td>\n",
       "    </tr>\n",
       "    <tr>\n",
       "      <th>4</th>\n",
       "      <td>susanabbott_art</td>\n",
       "      <td>50</td>\n",
       "    </tr>\n",
       "    <tr>\n",
       "      <th>5</th>\n",
       "      <td>fretin98</td>\n",
       "      <td>37</td>\n",
       "    </tr>\n",
       "    <tr>\n",
       "      <th>6</th>\n",
       "      <td>the_sstan</td>\n",
       "      <td>27</td>\n",
       "    </tr>\n",
       "    <tr>\n",
       "      <th>7</th>\n",
       "      <td>electronicartsintermix</td>\n",
       "      <td>26</td>\n",
       "    </tr>\n",
       "    <tr>\n",
       "      <th>8</th>\n",
       "      <td>donsonn</td>\n",
       "      <td>25</td>\n",
       "    </tr>\n",
       "    <tr>\n",
       "      <th>9</th>\n",
       "      <td>chenggao1999</td>\n",
       "      <td>25</td>\n",
       "    </tr>\n",
       "  </tbody>\n",
       "</table>\n",
       "</div>"
      ],
      "text/plain": [
       "                  Account  Follower count\n",
       "0              whitehouse              61\n",
       "1          jeanne_andreaa              51\n",
       "2           nytimestravel              51\n",
       "3    sonymusicsoundtracks              50\n",
       "4         susanabbott_art              50\n",
       "5                fretin98              37\n",
       "6               the_sstan              27\n",
       "7  electronicartsintermix              26\n",
       "8                 donsonn              25\n",
       "9            chenggao1999              25"
      ]
     },
     "execution_count": 6,
     "metadata": {},
     "output_type": "execute_result"
    }
   ],
   "source": [
    "#print(follower_sorted[:25])\n",
    "df = pd.DataFrame(follower_sorted[:10], columns=['Account','Follower count'])\n",
    "df"
   ]
  },
  {
   "cell_type": "code",
   "execution_count": 7,
   "id": "upper-worthy",
   "metadata": {},
   "outputs": [],
   "source": [
    "following_count = [(i,k) for i,k in (G.out_degree)]\n",
    "following_sorted = sorted(following_count, key=lambda x: x[1], reverse=True)"
   ]
  },
  {
   "cell_type": "markdown",
   "id": "quiet-philosophy",
   "metadata": {},
   "source": [
    "### Following count "
   ]
  },
  {
   "cell_type": "code",
   "execution_count": 8,
   "id": "peripheral-bathroom",
   "metadata": {},
   "outputs": [
    {
     "data": {
      "text/html": [
       "<div>\n",
       "<style scoped>\n",
       "    .dataframe tbody tr th:only-of-type {\n",
       "        vertical-align: middle;\n",
       "    }\n",
       "\n",
       "    .dataframe tbody tr th {\n",
       "        vertical-align: top;\n",
       "    }\n",
       "\n",
       "    .dataframe thead th {\n",
       "        text-align: right;\n",
       "    }\n",
       "</style>\n",
       "<table border=\"1\" class=\"dataframe\">\n",
       "  <thead>\n",
       "    <tr style=\"text-align: right;\">\n",
       "      <th></th>\n",
       "      <th>Account</th>\n",
       "      <th>Following count</th>\n",
       "    </tr>\n",
       "  </thead>\n",
       "  <tbody>\n",
       "    <tr>\n",
       "      <th>0</th>\n",
       "      <td>fretin98</td>\n",
       "      <td>1864</td>\n",
       "    </tr>\n",
       "    <tr>\n",
       "      <th>1</th>\n",
       "      <td>as_cool_as_cucumber_amber</td>\n",
       "      <td>202</td>\n",
       "    </tr>\n",
       "    <tr>\n",
       "      <th>2</th>\n",
       "      <td>khriswu8</td>\n",
       "      <td>201</td>\n",
       "    </tr>\n",
       "    <tr>\n",
       "      <th>3</th>\n",
       "      <td>aaannie_wang</td>\n",
       "      <td>200</td>\n",
       "    </tr>\n",
       "    <tr>\n",
       "      <th>4</th>\n",
       "      <td>dawn_rz_</td>\n",
       "      <td>200</td>\n",
       "    </tr>\n",
       "    <tr>\n",
       "      <th>5</th>\n",
       "      <td>ivyyyl_</td>\n",
       "      <td>200</td>\n",
       "    </tr>\n",
       "    <tr>\n",
       "      <th>6</th>\n",
       "      <td>schuwii_z</td>\n",
       "      <td>200</td>\n",
       "    </tr>\n",
       "    <tr>\n",
       "      <th>7</th>\n",
       "      <td>yitingzhang</td>\n",
       "      <td>200</td>\n",
       "    </tr>\n",
       "    <tr>\n",
       "      <th>8</th>\n",
       "      <td>donsonn</td>\n",
       "      <td>200</td>\n",
       "    </tr>\n",
       "    <tr>\n",
       "      <th>9</th>\n",
       "      <td>chenggao1999</td>\n",
       "      <td>200</td>\n",
       "    </tr>\n",
       "  </tbody>\n",
       "</table>\n",
       "</div>"
      ],
      "text/plain": [
       "                     Account  Following count\n",
       "0                   fretin98             1864\n",
       "1  as_cool_as_cucumber_amber              202\n",
       "2                   khriswu8              201\n",
       "3               aaannie_wang              200\n",
       "4                   dawn_rz_              200\n",
       "5                    ivyyyl_              200\n",
       "6                  schuwii_z              200\n",
       "7                yitingzhang              200\n",
       "8                    donsonn              200\n",
       "9               chenggao1999              200"
      ]
     },
     "execution_count": 8,
     "metadata": {},
     "output_type": "execute_result"
    }
   ],
   "source": [
    "#print(following_sorted[:25])\n",
    "df = pd.DataFrame(following_sorted[:10], columns=['Account','Following count'])\n",
    "df"
   ]
  },
  {
   "cell_type": "code",
   "execution_count": 9,
   "id": "chubby-prior",
   "metadata": {},
   "outputs": [],
   "source": [
    "avg_neighbor_degrees = nx.average_neighbor_degree(G)\n",
    "avg_neighb_deg_list = [(name,val) for name,val in avg_neighbor_degrees.items()]\n",
    "avg_neigh_d_sorted = sorted(avg_neighb_deg_list, key=lambda x: x[1], reverse=True)"
   ]
  },
  {
   "cell_type": "code",
   "execution_count": 10,
   "id": "trying-option",
   "metadata": {},
   "outputs": [
    {
     "name": "stdout",
     "output_type": "stream",
     "text": [
      "[('user1', 932.0), ('totoschnell2', 310.6666666666667), ('taizhe_xu', 203.8), ('dyuanb', 201.9), ('_alexbriggs', 200.0), ('_davelun', 200.0), ('_lucyhe_', 200.0), ('alex.hu.9693', 200.0), ('alishapeng24601', 200.0), ('arnaud.biebuyck', 200.0), ('brendan_thomas', 200.0), ('deerdeerwq', 200.0), ('dsaha02', 200.0), ('g4oza_no_easy', 200.0), ('guaaa_z', 200.0), ('jiahao9329', 200.0), ('viviii0799', 200.0), ('chuanhweeeee', 200.0), ('coconini_z', 200.0), ('copythattaylor', 200.0)]\n"
     ]
    }
   ],
   "source": [
    "print(avg_neigh_d_sorted[:20])"
   ]
  },
  {
   "cell_type": "code",
   "execution_count": 11,
   "id": "careful-death",
   "metadata": {},
   "outputs": [],
   "source": [
    "accounts_with_zero_following=[]\n",
    "for name,val in (G.out_degree):\n",
    "    if val==0:\n",
    "        accounts_with_zero_following.append((name,G.in_degree(name)))\n",
    "        \n",
    "accounts_with_0_following_sorted = sorted(accounts_with_zero_following, key=lambda x:x[1], reverse=True)"
   ]
  },
  {
   "cell_type": "markdown",
   "id": "continuous-surge",
   "metadata": {},
   "source": [
    "### Accounts with 0 following and their follower count within the network"
   ]
  },
  {
   "cell_type": "code",
   "execution_count": 12,
   "id": "square-necklace",
   "metadata": {},
   "outputs": [
    {
     "data": {
      "text/html": [
       "<div>\n",
       "<style scoped>\n",
       "    .dataframe tbody tr th:only-of-type {\n",
       "        vertical-align: middle;\n",
       "    }\n",
       "\n",
       "    .dataframe tbody tr th {\n",
       "        vertical-align: top;\n",
       "    }\n",
       "\n",
       "    .dataframe thead th {\n",
       "        text-align: right;\n",
       "    }\n",
       "</style>\n",
       "<table border=\"1\" class=\"dataframe\">\n",
       "  <thead>\n",
       "    <tr style=\"text-align: right;\">\n",
       "      <th></th>\n",
       "      <th>Account</th>\n",
       "      <th>Follower count</th>\n",
       "    </tr>\n",
       "  </thead>\n",
       "  <tbody>\n",
       "    <tr>\n",
       "      <th>0</th>\n",
       "      <td>aleha_84</td>\n",
       "      <td>11</td>\n",
       "    </tr>\n",
       "    <tr>\n",
       "      <th>1</th>\n",
       "      <td>wecouldgrowup2gether</td>\n",
       "      <td>11</td>\n",
       "    </tr>\n",
       "    <tr>\n",
       "      <th>2</th>\n",
       "      <td>eldenring</td>\n",
       "      <td>11</td>\n",
       "    </tr>\n",
       "    <tr>\n",
       "      <th>3</th>\n",
       "      <td>lib__rah</td>\n",
       "      <td>11</td>\n",
       "    </tr>\n",
       "    <tr>\n",
       "      <th>4</th>\n",
       "      <td>elonofficiall</td>\n",
       "      <td>11</td>\n",
       "    </tr>\n",
       "    <tr>\n",
       "      <th>...</th>\n",
       "      <td>...</td>\n",
       "      <td>...</td>\n",
       "    </tr>\n",
       "    <tr>\n",
       "      <th>13848</th>\n",
       "      <td>davidlu8889</td>\n",
       "      <td>1</td>\n",
       "    </tr>\n",
       "    <tr>\n",
       "      <th>13849</th>\n",
       "      <td>elaine_jiang99</td>\n",
       "      <td>1</td>\n",
       "    </tr>\n",
       "    <tr>\n",
       "      <th>13850</th>\n",
       "      <td>heytakki_</td>\n",
       "      <td>1</td>\n",
       "    </tr>\n",
       "    <tr>\n",
       "      <th>13851</th>\n",
       "      <td>marcellohdz</td>\n",
       "      <td>1</td>\n",
       "    </tr>\n",
       "    <tr>\n",
       "      <th>13852</th>\n",
       "      <td>monicaaa_ling</td>\n",
       "      <td>1</td>\n",
       "    </tr>\n",
       "  </tbody>\n",
       "</table>\n",
       "<p>13853 rows × 2 columns</p>\n",
       "</div>"
      ],
      "text/plain": [
       "                    Account  Follower count\n",
       "0                  aleha_84              11\n",
       "1      wecouldgrowup2gether              11\n",
       "2                 eldenring              11\n",
       "3                  lib__rah              11\n",
       "4             elonofficiall              11\n",
       "...                     ...             ...\n",
       "13848           davidlu8889               1\n",
       "13849        elaine_jiang99               1\n",
       "13850             heytakki_               1\n",
       "13851           marcellohdz               1\n",
       "13852         monicaaa_ling               1\n",
       "\n",
       "[13853 rows x 2 columns]"
      ]
     },
     "execution_count": 12,
     "metadata": {},
     "output_type": "execute_result"
    }
   ],
   "source": [
    "#print(accounts_with_0_following_sorted)\n",
    "df = pd.DataFrame(accounts_with_0_following_sorted, columns=['Account','Follower count'])\n",
    "df"
   ]
  },
  {
   "cell_type": "code",
   "execution_count": 13,
   "id": "external-gabriel",
   "metadata": {},
   "outputs": [],
   "source": [
    "page_ranks = nx.pagerank(G)\n",
    "page_ranks_sorted = sorted(page_ranks.keys(), key= lambda x: page_ranks[x], reverse=True)"
   ]
  },
  {
   "cell_type": "markdown",
   "id": "burning-burton",
   "metadata": {},
   "source": [
    "### Page rank "
   ]
  },
  {
   "cell_type": "code",
   "execution_count": 14,
   "id": "cheap-first",
   "metadata": {},
   "outputs": [
    {
     "data": {
      "text/html": [
       "<div>\n",
       "<style scoped>\n",
       "    .dataframe tbody tr th:only-of-type {\n",
       "        vertical-align: middle;\n",
       "    }\n",
       "\n",
       "    .dataframe tbody tr th {\n",
       "        vertical-align: top;\n",
       "    }\n",
       "\n",
       "    .dataframe thead th {\n",
       "        text-align: right;\n",
       "    }\n",
       "</style>\n",
       "<table border=\"1\" class=\"dataframe\">\n",
       "  <thead>\n",
       "    <tr style=\"text-align: right;\">\n",
       "      <th></th>\n",
       "      <th>Account</th>\n",
       "    </tr>\n",
       "  </thead>\n",
       "  <tbody>\n",
       "    <tr>\n",
       "      <th>0</th>\n",
       "      <td>whitehouse</td>\n",
       "    </tr>\n",
       "    <tr>\n",
       "      <th>1</th>\n",
       "      <td>jeanne_andreaa</td>\n",
       "    </tr>\n",
       "    <tr>\n",
       "      <th>2</th>\n",
       "      <td>nytimestravel</td>\n",
       "    </tr>\n",
       "    <tr>\n",
       "      <th>3</th>\n",
       "      <td>sonymusicsoundtracks</td>\n",
       "    </tr>\n",
       "    <tr>\n",
       "      <th>4</th>\n",
       "      <td>susanabbott_art</td>\n",
       "    </tr>\n",
       "    <tr>\n",
       "      <th>5</th>\n",
       "      <td>takumiotanii</td>\n",
       "    </tr>\n",
       "    <tr>\n",
       "      <th>6</th>\n",
       "      <td>donsonn</td>\n",
       "    </tr>\n",
       "    <tr>\n",
       "      <th>7</th>\n",
       "      <td>electronicartsintermix</td>\n",
       "    </tr>\n",
       "    <tr>\n",
       "      <th>8</th>\n",
       "      <td>parissfch</td>\n",
       "    </tr>\n",
       "    <tr>\n",
       "      <th>9</th>\n",
       "      <td>amyzzeng</td>\n",
       "    </tr>\n",
       "    <tr>\n",
       "      <th>10</th>\n",
       "      <td>alimlevo</td>\n",
       "    </tr>\n",
       "    <tr>\n",
       "      <th>11</th>\n",
       "      <td>johnnyxiong99</td>\n",
       "    </tr>\n",
       "    <tr>\n",
       "      <th>12</th>\n",
       "      <td>acy_yang</td>\n",
       "    </tr>\n",
       "    <tr>\n",
       "      <th>13</th>\n",
       "      <td>eh.torna</td>\n",
       "    </tr>\n",
       "    <tr>\n",
       "      <th>14</th>\n",
       "      <td>chenggao1999</td>\n",
       "    </tr>\n",
       "    <tr>\n",
       "      <th>15</th>\n",
       "      <td>the_sstan</td>\n",
       "    </tr>\n",
       "    <tr>\n",
       "      <th>16</th>\n",
       "      <td>sasankgarikapati</td>\n",
       "    </tr>\n",
       "    <tr>\n",
       "      <th>17</th>\n",
       "      <td>zoe.zxg</td>\n",
       "    </tr>\n",
       "    <tr>\n",
       "      <th>18</th>\n",
       "      <td>hin.deng</td>\n",
       "    </tr>\n",
       "    <tr>\n",
       "      <th>19</th>\n",
       "      <td>xyhwux</td>\n",
       "    </tr>\n",
       "  </tbody>\n",
       "</table>\n",
       "</div>"
      ],
      "text/plain": [
       "                   Account\n",
       "0               whitehouse\n",
       "1           jeanne_andreaa\n",
       "2            nytimestravel\n",
       "3     sonymusicsoundtracks\n",
       "4          susanabbott_art\n",
       "5             takumiotanii\n",
       "6                  donsonn\n",
       "7   electronicartsintermix\n",
       "8                parissfch\n",
       "9                 amyzzeng\n",
       "10                alimlevo\n",
       "11           johnnyxiong99\n",
       "12                acy_yang\n",
       "13                eh.torna\n",
       "14            chenggao1999\n",
       "15               the_sstan\n",
       "16        sasankgarikapati\n",
       "17                 zoe.zxg\n",
       "18                hin.deng\n",
       "19                  xyhwux"
      ]
     },
     "execution_count": 14,
     "metadata": {},
     "output_type": "execute_result"
    }
   ],
   "source": [
    "#print(page_ranks_sorted[:20])\n",
    "df = pd.DataFrame(page_ranks_sorted[:20], columns=['Account'])\n",
    "df"
   ]
  },
  {
   "cell_type": "code",
   "execution_count": 15,
   "id": "through-azerbaijan",
   "metadata": {},
   "outputs": [],
   "source": [
    "hits = nx.hits(G)\n",
    "hits_sorted = sorted(hits[0], key=lambda x:hits[0][x], reverse=True)"
   ]
  },
  {
   "cell_type": "markdown",
   "id": "heavy-cache",
   "metadata": {},
   "source": [
    "### Hits "
   ]
  },
  {
   "cell_type": "code",
   "execution_count": 16,
   "id": "pressed-grass",
   "metadata": {},
   "outputs": [
    {
     "data": {
      "text/html": [
       "<div>\n",
       "<style scoped>\n",
       "    .dataframe tbody tr th:only-of-type {\n",
       "        vertical-align: middle;\n",
       "    }\n",
       "\n",
       "    .dataframe tbody tr th {\n",
       "        vertical-align: top;\n",
       "    }\n",
       "\n",
       "    .dataframe thead th {\n",
       "        text-align: right;\n",
       "    }\n",
       "</style>\n",
       "<table border=\"1\" class=\"dataframe\">\n",
       "  <thead>\n",
       "    <tr style=\"text-align: right;\">\n",
       "      <th></th>\n",
       "      <th>Account</th>\n",
       "    </tr>\n",
       "  </thead>\n",
       "  <tbody>\n",
       "    <tr>\n",
       "      <th>0</th>\n",
       "      <td>fretin98</td>\n",
       "    </tr>\n",
       "    <tr>\n",
       "      <th>1</th>\n",
       "      <td>hhhzzz19</td>\n",
       "    </tr>\n",
       "    <tr>\n",
       "      <th>2</th>\n",
       "      <td>skyfish_yu</td>\n",
       "    </tr>\n",
       "    <tr>\n",
       "      <th>3</th>\n",
       "      <td>irving_ma</td>\n",
       "    </tr>\n",
       "    <tr>\n",
       "      <th>4</th>\n",
       "      <td>stephanie_dayhot</td>\n",
       "    </tr>\n",
       "    <tr>\n",
       "      <th>5</th>\n",
       "      <td>eon.zjy</td>\n",
       "    </tr>\n",
       "    <tr>\n",
       "      <th>6</th>\n",
       "      <td>cristal_xww</td>\n",
       "    </tr>\n",
       "    <tr>\n",
       "      <th>7</th>\n",
       "      <td>franck_wang</td>\n",
       "    </tr>\n",
       "    <tr>\n",
       "      <th>8</th>\n",
       "      <td>yz_jiang9</td>\n",
       "    </tr>\n",
       "    <tr>\n",
       "      <th>9</th>\n",
       "      <td>itsdottied_w</td>\n",
       "    </tr>\n",
       "    <tr>\n",
       "      <th>10</th>\n",
       "      <td>jiang_zzzy</td>\n",
       "    </tr>\n",
       "    <tr>\n",
       "      <th>11</th>\n",
       "      <td>zilili.h</td>\n",
       "    </tr>\n",
       "    <tr>\n",
       "      <th>12</th>\n",
       "      <td>the_sstan</td>\n",
       "    </tr>\n",
       "    <tr>\n",
       "      <th>13</th>\n",
       "      <td>hrh_wdk</td>\n",
       "    </tr>\n",
       "    <tr>\n",
       "      <th>14</th>\n",
       "      <td>charlotte_liu12</td>\n",
       "    </tr>\n",
       "    <tr>\n",
       "      <th>15</th>\n",
       "      <td>dj_henri</td>\n",
       "    </tr>\n",
       "    <tr>\n",
       "      <th>16</th>\n",
       "      <td>brendaaaluo</td>\n",
       "    </tr>\n",
       "    <tr>\n",
       "      <th>17</th>\n",
       "      <td>zihan8277</td>\n",
       "    </tr>\n",
       "    <tr>\n",
       "      <th>18</th>\n",
       "      <td>gingin9711</td>\n",
       "    </tr>\n",
       "    <tr>\n",
       "      <th>19</th>\n",
       "      <td>wanna__tattoo</td>\n",
       "    </tr>\n",
       "  </tbody>\n",
       "</table>\n",
       "</div>"
      ],
      "text/plain": [
       "             Account\n",
       "0           fretin98\n",
       "1           hhhzzz19\n",
       "2         skyfish_yu\n",
       "3          irving_ma\n",
       "4   stephanie_dayhot\n",
       "5            eon.zjy\n",
       "6        cristal_xww\n",
       "7        franck_wang\n",
       "8          yz_jiang9\n",
       "9       itsdottied_w\n",
       "10        jiang_zzzy\n",
       "11          zilili.h\n",
       "12         the_sstan\n",
       "13           hrh_wdk\n",
       "14   charlotte_liu12\n",
       "15          dj_henri\n",
       "16       brendaaaluo\n",
       "17         zihan8277\n",
       "18        gingin9711\n",
       "19     wanna__tattoo"
      ]
     },
     "execution_count": 16,
     "metadata": {},
     "output_type": "execute_result"
    }
   ],
   "source": [
    "#print(hits_sorted[:20])\n",
    "df = pd.DataFrame(hits_sorted[:20], columns=['Account'])\n",
    "df"
   ]
  },
  {
   "cell_type": "code",
   "execution_count": 17,
   "id": "confused-citizenship",
   "metadata": {},
   "outputs": [],
   "source": [
    "closeness = nx.closeness_centrality(G)\n",
    "betweenness = nx.betweenness_centrality(G)\n",
    "\n",
    "# These two take exponentially large time which could take hours to compute"
   ]
  },
  {
   "cell_type": "markdown",
   "id": "purple-saint",
   "metadata": {},
   "source": [
    "## Graph with specific subset of nodes and edges between them"
   ]
  },
  {
   "cell_type": "code",
   "execution_count": 18,
   "id": "western-degree",
   "metadata": {},
   "outputs": [],
   "source": [
    "import essentialRoutines\n",
    "adjFile = open(\"adjList.txt\",\"r\")\n",
    "adjList = adjFile.readlines()\n",
    "adjFile.close()\n",
    "allNodes = essentialRoutines.adjList_to_dict(adjList)"
   ]
  },
  {
   "cell_type": "code",
   "execution_count": 19,
   "id": "pleasant-traveler",
   "metadata": {},
   "outputs": [],
   "source": [
    "my_neighbors = allNodes['fretin98']"
   ]
  },
  {
   "cell_type": "code",
   "execution_count": 20,
   "id": "purple-syracuse",
   "metadata": {},
   "outputs": [],
   "source": [
    "G_small = nx.DiGraph()\n",
    "for neighbor in my_neighbors:\n",
    "    G_small.add_edge('fretin98',neighbor)\n",
    "    \n",
    "for node in allNodes.keys():\n",
    "    if 'arjun_siva__' in allNodes[node]:\n",
    "        my_neighbors.append(node)\n",
    "        G_small.add_edge(node, 'fretin98')"
   ]
  },
  {
   "cell_type": "code",
   "execution_count": 21,
   "id": "subtle-reproduction",
   "metadata": {},
   "outputs": [
    {
     "name": "stdout",
     "output_type": "stream",
     "text": [
      "2 1\n"
     ]
    }
   ],
   "source": [
    "for n1 in my_neighbors:\n",
    "    for n2 in my_neighbors:\n",
    "        try:\n",
    "            if n1 in allNodes[n2]:\n",
    "                G_small.add_edge(n2, n1)\n",
    "        except:\n",
    "            continue\n",
    "            \n",
    "print(G_small.number_of_nodes(), G_small.number_of_edges())"
   ]
  },
  {
   "cell_type": "code",
   "execution_count": 22,
   "id": "spanish-perfume",
   "metadata": {},
   "outputs": [],
   "source": [
    "b_c = nx.betweenness_centrality(G_small)\n",
    "b_c_sorted = sorted(b_c.items(), key=lambda x:b_c[x[0]], reverse=True)"
   ]
  },
  {
   "cell_type": "markdown",
   "id": "previous-group",
   "metadata": {},
   "source": [
    "### Betweenness centrality "
   ]
  },
  {
   "cell_type": "code",
   "execution_count": 23,
   "id": "elder-advocate",
   "metadata": {},
   "outputs": [
    {
     "data": {
      "text/html": [
       "<div>\n",
       "<style scoped>\n",
       "    .dataframe tbody tr th:only-of-type {\n",
       "        vertical-align: middle;\n",
       "    }\n",
       "\n",
       "    .dataframe tbody tr th {\n",
       "        vertical-align: top;\n",
       "    }\n",
       "\n",
       "    .dataframe thead th {\n",
       "        text-align: right;\n",
       "    }\n",
       "</style>\n",
       "<table border=\"1\" class=\"dataframe\">\n",
       "  <thead>\n",
       "    <tr style=\"text-align: right;\">\n",
       "      <th></th>\n",
       "      <th>Account</th>\n",
       "      <th>Value</th>\n",
       "    </tr>\n",
       "  </thead>\n",
       "  <tbody>\n",
       "    <tr>\n",
       "      <th>0</th>\n",
       "      <td>fretin98</td>\n",
       "      <td>0.0</td>\n",
       "    </tr>\n",
       "    <tr>\n",
       "      <th>1</th>\n",
       "      <td>zzzzzzshirley</td>\n",
       "      <td>0.0</td>\n",
       "    </tr>\n",
       "  </tbody>\n",
       "</table>\n",
       "</div>"
      ],
      "text/plain": [
       "         Account  Value\n",
       "0       fretin98    0.0\n",
       "1  zzzzzzshirley    0.0"
      ]
     },
     "execution_count": 23,
     "metadata": {},
     "output_type": "execute_result"
    }
   ],
   "source": [
    "#print(b_c_sorted[:20])\n",
    "df = pd.DataFrame(b_c_sorted[:20], columns=['Account','Value'])\n",
    "df"
   ]
  },
  {
   "cell_type": "code",
   "execution_count": 24,
   "id": "sharing-continuity",
   "metadata": {},
   "outputs": [],
   "source": [
    "c_c = nx.closeness_centrality(G_small)\n",
    "c_c_sorted = sorted(c_c.items(), key=lambda x:c_c[x[0]], reverse=True)"
   ]
  },
  {
   "cell_type": "markdown",
   "id": "included-dispatch",
   "metadata": {},
   "source": [
    "### Closeness centrality "
   ]
  },
  {
   "cell_type": "code",
   "execution_count": 25,
   "id": "traditional-termination",
   "metadata": {},
   "outputs": [
    {
     "data": {
      "text/html": [
       "<div>\n",
       "<style scoped>\n",
       "    .dataframe tbody tr th:only-of-type {\n",
       "        vertical-align: middle;\n",
       "    }\n",
       "\n",
       "    .dataframe tbody tr th {\n",
       "        vertical-align: top;\n",
       "    }\n",
       "\n",
       "    .dataframe thead th {\n",
       "        text-align: right;\n",
       "    }\n",
       "</style>\n",
       "<table border=\"1\" class=\"dataframe\">\n",
       "  <thead>\n",
       "    <tr style=\"text-align: right;\">\n",
       "      <th></th>\n",
       "      <th>Account</th>\n",
       "      <th>Value</th>\n",
       "    </tr>\n",
       "  </thead>\n",
       "  <tbody>\n",
       "    <tr>\n",
       "      <th>0</th>\n",
       "      <td>zzzzzzshirley</td>\n",
       "      <td>1.0</td>\n",
       "    </tr>\n",
       "    <tr>\n",
       "      <th>1</th>\n",
       "      <td>fretin98</td>\n",
       "      <td>0.0</td>\n",
       "    </tr>\n",
       "  </tbody>\n",
       "</table>\n",
       "</div>"
      ],
      "text/plain": [
       "         Account  Value\n",
       "0  zzzzzzshirley    1.0\n",
       "1       fretin98    0.0"
      ]
     },
     "execution_count": 25,
     "metadata": {},
     "output_type": "execute_result"
    }
   ],
   "source": [
    "#print(c_c_sorted[:20])\n",
    "df = pd.DataFrame(c_c_sorted[:20], columns=['Account','Value'])\n",
    "df"
   ]
  },
  {
   "cell_type": "code",
   "execution_count": 26,
   "id": "experienced-columbia",
   "metadata": {},
   "outputs": [],
   "source": [
    "G_small_undir = G_small.to_undirected()"
   ]
  },
  {
   "cell_type": "code",
   "execution_count": 27,
   "id": "identical-domestic",
   "metadata": {},
   "outputs": [],
   "source": [
    "preds = nx.preferential_attachment(G_small_undir)\n",
    "preds_sorted = sorted(preds, key=lambda x:x[2], reverse=True)"
   ]
  },
  {
   "cell_type": "markdown",
   "id": "present-century",
   "metadata": {},
   "source": [
    "### Preferential attachment "
   ]
  },
  {
   "cell_type": "code",
   "execution_count": 28,
   "id": "packed-implementation",
   "metadata": {},
   "outputs": [
    {
     "data": {
      "text/html": [
       "<div>\n",
       "<style scoped>\n",
       "    .dataframe tbody tr th:only-of-type {\n",
       "        vertical-align: middle;\n",
       "    }\n",
       "\n",
       "    .dataframe tbody tr th {\n",
       "        vertical-align: top;\n",
       "    }\n",
       "\n",
       "    .dataframe thead th {\n",
       "        text-align: right;\n",
       "    }\n",
       "</style>\n",
       "<table border=\"1\" class=\"dataframe\">\n",
       "  <thead>\n",
       "    <tr style=\"text-align: right;\">\n",
       "      <th></th>\n",
       "      <th>Account 1</th>\n",
       "      <th>Account 2</th>\n",
       "      <th>Value</th>\n",
       "    </tr>\n",
       "  </thead>\n",
       "  <tbody>\n",
       "  </tbody>\n",
       "</table>\n",
       "</div>"
      ],
      "text/plain": [
       "Empty DataFrame\n",
       "Columns: [Account 1, Account 2, Value]\n",
       "Index: []"
      ]
     },
     "execution_count": 28,
     "metadata": {},
     "output_type": "execute_result"
    }
   ],
   "source": [
    "#print(preds_sorted[:20])\n",
    "df = pd.DataFrame(preds_sorted[:20], columns=['Account 1','Account 2','Value'])\n",
    "df"
   ]
  },
  {
   "cell_type": "code",
   "execution_count": 29,
   "id": "english-martin",
   "metadata": {},
   "outputs": [],
   "source": [
    "def find_unconnected_nodes(selected_node, node_list, G):\n",
    "    \n",
    "    # obtain all the nodes connected to the selected node\n",
    "    connected_nodes = [n for _, n in G.edges(selected_node)]\n",
    "\n",
    "    # a feasible node is one not in connected_nodes\n",
    "    feasible_nodes = [feasible_n for feasible_n in node_list if feasible_n not in connected_nodes + [selected_node]]\n",
    "\n",
    "    return feasible_nodes"
   ]
  },
  {
   "cell_type": "code",
   "execution_count": 30,
   "id": "aerial-quantity",
   "metadata": {},
   "outputs": [],
   "source": [
    "unconnected_nodes = []\n",
    "not_connected_list = find_unconnected_nodes('fretin98', G_small_undir.nodes(), G_small_undir)\n",
    "for n in not_connected_list:\n",
    "    unconnected_nodes.append(('fretin98',n))"
   ]
  },
  {
   "cell_type": "code",
   "execution_count": 31,
   "id": "discrete-donna",
   "metadata": {},
   "outputs": [],
   "source": [
    "j_coef = nx.jaccard_coefficient(G_small_undir, ebunch=unconnected_nodes)\n",
    "j_coef_sorted = sorted(j_coef, key=lambda x:x[2], reverse=True)"
   ]
  },
  {
   "cell_type": "markdown",
   "id": "handy-locking",
   "metadata": {},
   "source": [
    "### Jaccard Coefficient between a specific node and all nodes not connected to it "
   ]
  },
  {
   "cell_type": "code",
   "execution_count": 32,
   "id": "portuguese-narrow",
   "metadata": {},
   "outputs": [
    {
     "data": {
      "text/html": [
       "<div>\n",
       "<style scoped>\n",
       "    .dataframe tbody tr th:only-of-type {\n",
       "        vertical-align: middle;\n",
       "    }\n",
       "\n",
       "    .dataframe tbody tr th {\n",
       "        vertical-align: top;\n",
       "    }\n",
       "\n",
       "    .dataframe thead th {\n",
       "        text-align: right;\n",
       "    }\n",
       "</style>\n",
       "<table border=\"1\" class=\"dataframe\">\n",
       "  <thead>\n",
       "    <tr style=\"text-align: right;\">\n",
       "      <th></th>\n",
       "      <th>Account 1</th>\n",
       "      <th>Account 2</th>\n",
       "      <th>Value</th>\n",
       "    </tr>\n",
       "  </thead>\n",
       "  <tbody>\n",
       "  </tbody>\n",
       "</table>\n",
       "</div>"
      ],
      "text/plain": [
       "Empty DataFrame\n",
       "Columns: [Account 1, Account 2, Value]\n",
       "Index: []"
      ]
     },
     "execution_count": 32,
     "metadata": {},
     "output_type": "execute_result"
    }
   ],
   "source": [
    "#print(j_coef_sorted[:20])\n",
    "df = pd.DataFrame(j_coef_sorted[:20], columns=['Account 1','Account 2','Value'])\n",
    "df"
   ]
  },
  {
   "cell_type": "markdown",
   "id": "associate-portal",
   "metadata": {},
   "source": [
    "### Exporting to gexf format for Gephi"
   ]
  },
  {
   "cell_type": "code",
   "execution_count": 33,
   "id": "affecting-vampire",
   "metadata": {},
   "outputs": [],
   "source": [
    "nx.write_gexf(G, \"Full_graph.gexf\")"
   ]
  },
  {
   "cell_type": "code",
   "execution_count": 34,
   "id": "diagnostic-newcastle",
   "metadata": {},
   "outputs": [],
   "source": [
    "nx.write_gexf(G_small, \"Subset.gexf\")"
   ]
  }
 ],
 "metadata": {
  "kernelspec": {
   "display_name": "Python 3",
   "language": "python",
   "name": "python3"
  },
  "language_info": {
   "codemirror_mode": {
    "name": "ipython",
    "version": 3
   },
   "file_extension": ".py",
   "mimetype": "text/x-python",
   "name": "python",
   "nbconvert_exporter": "python",
   "pygments_lexer": "ipython3",
   "version": "3.11.8"
  }
 },
 "nbformat": 4,
 "nbformat_minor": 5
}
